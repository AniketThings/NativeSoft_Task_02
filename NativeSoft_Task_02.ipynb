{
 "cells": [
  {
   "cell_type": "markdown",
   "id": "37556d7f",
   "metadata": {},
   "source": [
    "### Aniket Gaud"
   ]
  },
  {
   "cell_type": "markdown",
   "id": "90bf584b",
   "metadata": {},
   "source": [
    " ### Building a simple Command-Line Interface(CLI) tool using Python that can perform useful tasks."
   ]
  },
  {
   "cell_type": "markdown",
   "id": "2d80d1d8",
   "metadata": {},
   "source": [
    "### Calculator:\n",
    "### Perform basic arithmetic operations: addition, subtraction, multiplication, and division"
   ]
  },
  {
   "cell_type": "code",
   "execution_count": 1,
   "id": "b6349324",
   "metadata": {},
   "outputs": [],
   "source": [
    "import sys\n",
    "from datetime import datetime"
   ]
  },
  {
   "cell_type": "code",
   "execution_count": 1,
   "id": "76424766",
   "metadata": {},
   "outputs": [
    {
     "name": "stdout",
     "output_type": "stream",
     "text": [
      "Welcome to the CLI Tool!\n",
      "\n",
      "CLI Tool Options:\n",
      "1. calculator   - Perform basic arithmetic operations.\n",
      "2. text         - Convert text to uppercase.\n",
      "3. datetime     - Show the current date and time.\n",
      "4. help         - Display this help menu.\n",
      "5. exit         - Exit the tool.\n",
      "\n",
      "Enter a command: exit\n",
      "Exiting... Goodbye!\n"
     ]
    },
    {
     "ename": "SystemExit",
     "evalue": "",
     "output_type": "error",
     "traceback": [
      "An exception has occurred, use %tb to see the full traceback.\n",
      "\u001b[1;31mSystemExit\u001b[0m\n"
     ]
    },
    {
     "name": "stderr",
     "output_type": "stream",
     "text": [
      "C:\\Users\\Aniket\\anaconda3\\Lib\\site-packages\\IPython\\core\\interactiveshell.py:3534: UserWarning: To exit: use 'exit', 'quit', or Ctrl-D.\n",
      "  warn(\"To exit: use 'exit', 'quit', or Ctrl-D.\", stacklevel=1)\n"
     ]
    }
   ],
   "source": [
    "import sys\n",
    "from datetime import datetime\n",
    "\n",
    "def calculator():\n",
    "    print(\"\\nSimple Calculator\")\n",
    "    print(\"Enter two numbers:\")\n",
    "    try:\n",
    "        num1 = float(input(\"Number 1: \"))\n",
    "        num2 = float(input(\"Number 2: \"))\n",
    "        operation = input(\"Choose an operation (+, -, *, /): \")\n",
    "        if operation == '+':\n",
    "            print(f\"Result: {num1 + num2}\")\n",
    "        elif operation == '-':\n",
    "            print(f\"Result: {num1 - num2}\")\n",
    "        elif operation == '*':\n",
    "            print(f\"Result: {num1 * num2}\")\n",
    "        elif operation == '/':\n",
    "            if num2 != 0:\n",
    "                print(f\"Result: {num1 / num2}\")\n",
    "            else:\n",
    "                print(\"Error: Division by zero!\")\n",
    "        else:\n",
    "            print(\"Invalid operation. Please choose +, -, *, or /.\")\n",
    "    except ValueError:\n",
    "        print(\"Error: Please enter valid numbers.\")\n",
    "        \n",
    "# TEXT CONVERTER\n",
    "def text_converter():\n",
    "    print(\"\\nText Converter\")\n",
    "    text = input(\"Enter text: \")\n",
    "    print(f\"Uppercase: {text.upper()}\")\n",
    "    \n",
    "    \n",
    "#DATE AND TIME\n",
    "def show_date_time():\n",
    "    print(\"\\nCurrent Date and Time\")\n",
    "    now = datetime.now()\n",
    "    print(f\"{now.strftime('%Y-%m-%d %H:%M:%S')}\")\n",
    "    \n",
    "    \n",
    "#HELP MENU\n",
    "def show_help():\n",
    "    print(\"\\nCLI Tool Options:\")\n",
    "    print(\"1. calculator   - Perform basic arithmetic operations.\")\n",
    "    print(\"2. text         - Convert text to uppercase.\")\n",
    "    print(\"3. datetime     - Show the current date and time.\")\n",
    "    print(\"4. help         - Display this help menu.\")\n",
    "    print(\"5. exit         - Exit the tool.\")\n",
    "\n",
    "def main():\n",
    "    print(\"Welcome to the CLI Tool!\")\n",
    "    show_help()\n",
    "\n",
    "    while True:\n",
    "        command = input(\"\\nEnter a command: \").strip().lower()\n",
    "        if command == \"calculator\":\n",
    "            calculator()\n",
    "        elif command == \"text\":\n",
    "            text_converter()\n",
    "        elif command == \"datetime\":\n",
    "            show_date_time()\n",
    "        elif command == \"help\":\n",
    "            show_help()\n",
    "        elif command == \"exit\":\n",
    "            print(\"Exiting... Goodbye!\")\n",
    "            sys.exit()\n",
    "        else:\n",
    "            print(\"Invalid command. Type 'help' for a list of options.\")\n",
    "\n",
    "if __name__ == \"__main__\":\n",
    "    main()\n"
   ]
  },
  {
   "cell_type": "code",
   "execution_count": null,
   "id": "07756bc6",
   "metadata": {},
   "outputs": [],
   "source": [
    "\n"
   ]
  }
 ],
 "metadata": {
  "kernelspec": {
   "display_name": "Python 3 (ipykernel)",
   "language": "python",
   "name": "python3"
  },
  "language_info": {
   "codemirror_mode": {
    "name": "ipython",
    "version": 3
   },
   "file_extension": ".py",
   "mimetype": "text/x-python",
   "name": "python",
   "nbconvert_exporter": "python",
   "pygments_lexer": "ipython3",
   "version": "3.11.5"
  }
 },
 "nbformat": 4,
 "nbformat_minor": 5
}
